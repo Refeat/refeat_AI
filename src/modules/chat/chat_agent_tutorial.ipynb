{
 "cells": [
  {
   "cell_type": "code",
   "execution_count": 1,
   "metadata": {},
   "outputs": [
    {
     "name": "stderr",
     "output_type": "stream",
     "text": [
      "c:\\Users\\chois\\AppData\\Local\\Continuum\\anaconda3\\envs\\refeat_ai\\lib\\site-packages\\tqdm\\auto.py:21: TqdmWarning: IProgress not found. Please update jupyter and ipywidgets. See https://ipywidgets.readthedocs.io/en/stable/user_install.html\n",
      "  from .autonotebook import tqdm as notebook_tqdm\n"
     ]
    }
   ],
   "source": [
    "import os\n",
    "import sys\n",
    "\n",
    "sys.path.append('../../')\n",
    "\n",
    "from utils import add_api_key\n",
    "add_api_key()\n",
    "\n",
    "from typing import List\n",
    "\n",
    "from langchain_core.messages import HumanMessage, AIMessage\n",
    "from langchain.agents import AgentExecutor\n",
    "from langchain.chat_models import ChatOpenAI\n",
    "\n",
    "from models.llm.agent.conversational_chat_agent import ConversationalChatAgent\n",
    "from models.tools import WebSearchTool, DBSearchTool\n",
    "from models.llm.agent.custom_streming_callback import CustomStreamingStdOutCallbackHandler\n",
    "\n",
    "class ChatAgent:\n",
    "    def __init__(self, verbose=False):\n",
    "        llm = ChatOpenAI(model=\"gpt-3.5-turbo-1106\", temperature=0.0, streaming=True, seed=42)\n",
    "        tools = [WebSearchTool(), DBSearchTool()]\n",
    "        agent = ConversationalChatAgent.from_llm_and_tools(llm=llm, tools=tools)\n",
    "        self.queue = [] # TODO: 나중에 backend에서 주면 삭제\n",
    "        self.agent_executor = AgentExecutor(agent=agent, tools=tools, verbose=verbose)\n",
    "        self.streaming_callback = CustomStreamingStdOutCallbackHandler(queue=self.queue)\n",
    "    \n",
    "    def run(self, query, chat_history: List[List[str]]=[]):\n",
    "        input_dict = self.parse_input(query, chat_history)\n",
    "        result = self.agent_executor.run(input_dict, callbacks=[self.streaming_callback])\n",
    "        return result\n",
    "\n",
    "    def parse_input(self, query, chat_history):\n",
    "        parsed_chat_history = []\n",
    "        for human, assistant in chat_history:\n",
    "            parsed_chat_history.append(HumanMessage(content=human))\n",
    "            parsed_chat_history.append(AIMessage(content=assistant))\n",
    "        return {\"input\": query, \"chat_history\": parsed_chat_history}"
   ]
  },
  {
   "cell_type": "code",
   "execution_count": 2,
   "metadata": {},
   "outputs": [
    {
     "name": "stderr",
     "output_type": "stream",
     "text": [
      "WARNING! seed is not default parameter.\n",
      "                    seed was transferred to model_kwargs.\n",
      "                    Please confirm that seed is what you intended.\n"
     ]
    }
   ],
   "source": [
    "chat_agent = ChatAgent(verbose=True)"
   ]
  },
  {
   "cell_type": "code",
   "execution_count": 5,
   "metadata": {},
   "outputs": [
    {
     "name": "stdout",
     "output_type": "stream",
     "text": [
      "\n",
      "\n",
      "\u001b[1m> Entering new AgentExecutor chain...\u001b[0m\n",
      "```json\n",
      "{\n",
      "Database Search\",\n",
      "아시아 축구 성장 이유\"\n",
      "}\n",
      "```\u001b[32;1m\u001b[1;3m```json\n",
      "{\n",
      "    \"action\": \"Database Search\",\n",
      "    \"action_input\": \"아시아 축구 성장 이유\"\n",
      "}\n",
      "```\u001b[0m\n",
      "Observation: \u001b[33;1m\u001b[1;3mresult1. 허리협착증, 통증 \"수술없이\" 집에서 5분만에 해결! 부부관계시 '사랑받는' 女들의 특징은? AD 원본보기 아이콘 이같은 성장률 상향 조정에 대해 S&P는 인도 내수 소비가 증가하면서 높은 식량 인플레이션(물가 상승)과 수출 부진을 상쇄했기 때문이라고 설명했다. 보고서는 인도와 마찬가지로 인도네시아와 말레이시아, 필리핀 등 다른 동남아 국가들도 내수 호조로 인해 올해와 내년 GDP 성장률이 플러스(+)를 기록할 것이라는 예상을 내놨다. S&P는 2024~2025회계연도의 인도 GDP 성장률을 기존 6.9%에서 6.0%로 낮췄지만, 2025~2026회계연도에는 다시 7%로 높아질 것으로 내다봤다.\n",
      "\n",
      "\n",
      "result2. 아시아경제 최신 기획이슈 마스크영역 내러티브 스토리｜태양광과 장작 이전 다음 일반 \"중국이 아니네\"…앞으로 아시아 성장 주도할 나라는? 기자 김현정 2023.12.01 17:57 입력 2023.12.01 20:42 수정 49초 시계아이콘 읽는 시간 뉴스듣기 공유 스크랩 글자크기 인쇄 RSS 인도 올 회계연도 GDP 성장률 6.4% 예상내수 소비 증가로 인플레·수출 부진 상쇄 인도가 중국을 제치고 향후 3년 동안 아시아·태평양 지역 성장을 주도할 나라로 꼽혔다. 30일(현지시간) 미 CNBC 방송과 일간 월스트리트저널(WSJ) 등에 따르면 스탠더드앤드푸어스(S&P) 글로벌은 최근 보고서에서 인도의 2023~2024 회계연도(2023.4∼2024.3) 국내총생산(GDP) 성장률이 6.4%를 기록할 것으로 예상했다. 이는 이전 전망치 6.0%보다 0.4%포인트 오른 수치다. 국제통화기금(IMF)과 인도중앙은행(RBI)도 같은 기간 인도가 각각 6.3%, 6.5% 성장할 것이라고 예상했다.\n",
      "\n",
      "\n",
      "result3. 본문 바로가기 아시아경제 사이트맵메뉴 열기 실시간 뉴스 국립부경대 디지털스마트부산 아카데미 사업단, 평가 ‘1위’ 최호권 영등포구청장 제설대응 현장 점검 '롤스로이스男' 마약류 처방 의사 구속…\"증거 인멸 우려\" 러 \"韓, 수출금지 대응에 놀라지 말길\" 보복 경고 틱톡, 대만 총통 선거 개입 의혹에 자구안 마련…가짜뉴스 차단 \"로봇이 인간 공격하기도\"…테슬라 공장서 100명 중 5명꼴 부상 도요타, 4년 연속 세계 판매 1위 전망…북미·유럽 호조\n",
      "\n",
      "\n",
      "result4. 도요타, 4년 연속 세계 판매 1위 전망…북미·유럽 호조 “실습·교육·운영”… 동명대 상담임상심리학과, 부산중구정신건강복지센터 5년간 맡아 대통령실 \"영미권 외신, 높아진 대한민국 위상 보여줘\" 부산항 마을 돕고 수산물 소비촉진… BPA, 2년 연속 ‘농어촌 ESG 인정제’ 획득 국립부경대 디지털스마트부산 아카데미 사업단, 평가 ‘1위’ 최호권 영등포구청장 제설대응 현장 점검 검색창 열기 국제 증시 경제 일반\n",
      "\n",
      "\n",
      "result5. S&P는 이스라엘-하마스 간 전쟁으로 인한 에너지 쇼크와 미국 경제의 경착륙 위험 등을 이유로 중국을 제외한 아·태지역 내년 경제성장률 전망치를 4.4%에서 4.2%로 하향 조정했다. 김현정 기자 khj27@asiae.co.kr AD facebook twitter share 스크랩 꼭 봐야할 주요뉴스 배우 김혜선·가수 도끼·조덕배, 수천만원 건보료... 마스크영역 조국, 이선균 사망 소식에 \"남 일 같지 않아…분노가 치민다\" \"로봇이 인간 공격하기도\"…테슬라 공장서 100명 중 5명꼴 부상 \"공원 걸을 때 땅 자세히 봐야겠네\"…4.87캐럿 다이아몬드 주은 美 남성 '믿고 보는 배우' 이선균의 허망한 마지막\n",
      "\n",
      "\n",
      "\u001b[0m\n",
      "Thought:```json\n",
      "{\n",
      "Final Answer아시아 축구가 성장하는 이유는 인도와 다른 동남아 국가들의 내수 호조로 인해 올해와 내년 GDP 성장률이 플러스를 기록할 것으로 예상되기 때문입니다.\"\n",
      "}\n",
      "```\u001b[32;1m\u001b[1;3m```json\n",
      "{\n",
      "    \"action\": \"Final Answer\",\n",
      "    \"action_input\": \"아시아 축구가 성장하는 이유는 인도와 다른 동남아 국가들의 내수 호조로 인해 올해와 내년 GDP 성장률이 플러스를 기록할 것으로 예상되기 때문입니다.\"\n",
      "}\n",
      "```\u001b[0m\n",
      "\n",
      "\u001b[1m> Finished chain.\u001b[0m\n",
      "아시아 축구가 성장하는 이유는 인도와 다른 동남아 국가들의 내수 호조로 인해 올해와 내년 GDP 성장률이 플러스를 기록할 것으로 예상되기 때문입니다.\n"
     ]
    },
    {
     "data": {
      "text/plain": [
       "'아시아 축구가 성장하는 이유는 인도와 다른 동남아 국가들의 내수 호조로 인해 올해와 내년 GDP 성장률이 플러스를 기록할 것으로 예상되기 때문입니다.'"
      ]
     },
     "execution_count": 5,
     "metadata": {},
     "output_type": "execute_result"
    }
   ],
   "source": [
    "chat_agent.run(\"데이터베이스에서 아시아 축구가 요즘 성장하는 이유가 뭐야?\", [[\"안녕하세요\", \"무엇을 도와드릴까요?\"]])"
   ]
  }
 ],
 "metadata": {
  "kernelspec": {
   "display_name": "refeat_ai",
   "language": "python",
   "name": "python3"
  },
  "language_info": {
   "codemirror_mode": {
    "name": "ipython",
    "version": 3
   },
   "file_extension": ".py",
   "mimetype": "text/x-python",
   "name": "python",
   "nbconvert_exporter": "python",
   "pygments_lexer": "ipython3",
   "version": "3.10.11"
  }
 },
 "nbformat": 4,
 "nbformat_minor": 2
}
