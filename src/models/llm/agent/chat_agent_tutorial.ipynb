{
 "cells": [
  {
   "cell_type": "code",
   "execution_count": null,
   "metadata": {},
   "outputs": [],
   "source": [
    "import os\n",
    "import sys\n",
    "current_path = os.path.dirname(os.path.abspath(__file__))\n",
    "for _ in range(3):\n",
    "    current_path = os.path.dirname(current_path)\n",
    "sys.path.append(current_path)\n",
    "\n",
    "from utils import add_api_key\n",
    "add_api_key()\n",
    "\n",
    "from typing import List\n",
    "\n",
    "from langchain_core.messages import HumanMessage, AIMessage\n",
    "from langchain.agents import AgentExecutor\n",
    "from langchain.chat_models import ChatOpenAI\n",
    "\n",
    "from models.llm.agent.conversational_chat_agent import ConversationalChatAgent\n",
    "from models.tools import WebSearchTool, DBSearchTool\n",
    "from models.llm.agent.custom_streming_callback import CustomStreamingStdOutCallbackHandler\n",
    "\n",
    "class ChatAgent:\n",
    "    def __init__(self):\n",
    "        llm = ChatOpenAI(model=\"gpt-3.5-turbo-1106\", temperature=0.0, streaming=True, seed=42)\n",
    "        tools = [WebSearchTool(), DBSearchTool()]\n",
    "        agent = ConversationalChatAgent.from_llm_and_tools(llm=llm, tools=tools)\n",
    "        self.queue = [] # TODO: 나중에 backend에서 주면 삭제\n",
    "        self.agent_executor = AgentExecutor(agent=agent, tools=tools, verbose=True)\n",
    "        self.streaming_callback = CustomStreamingStdOutCallbackHandler(queue=self.queue)\n",
    "    \n",
    "    def run(self, query, chat_history: List[List[str]]):\n",
    "        input_dict = self.parse_input(query, chat_history)\n",
    "        result = self.agent_executor.run(input_dict, callbacks=[self.streaming_callback])\n",
    "        print(result)\n",
    "        return result\n",
    "\n",
    "    def parse_input(self, query, chat_history):\n",
    "        parsed_chat_history = []\n",
    "        for human, assistant in chat_history:\n",
    "            parsed_chat_history.append(HumanMessage(content=human))\n",
    "            parsed_chat_history.append(AIMessage(content=assistant))\n",
    "        return {\"input\": query, \"chat_history\": parsed_chat_history}"
   ]
  },
  {
   "cell_type": "code",
   "execution_count": null,
   "metadata": {},
   "outputs": [],
   "source": [
    "chat_agent = ChatAgent()\n",
    "chat_agent.run(\"Cross-lingual Language Model Pretraining bleu score\", [[\"안녕하세요\", \"무엇을 도와드릴까요?\"]])"
   ]
  }
 ],
 "metadata": {
  "kernelspec": {
   "display_name": "refeat_ai",
   "language": "python",
   "name": "python3"
  },
  "language_info": {
   "name": "python",
   "version": "3.10.11"
  }
 },
 "nbformat": 4,
 "nbformat_minor": 2
}
